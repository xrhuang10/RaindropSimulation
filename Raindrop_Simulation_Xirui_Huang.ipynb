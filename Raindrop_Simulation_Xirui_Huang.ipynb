{
  "cells": [
    {
      "cell_type": "code",
      "execution_count": null,
      "metadata": {
        "colab": {
          "base_uri": "https://localhost:8080/",
          "height": 1000
        },
        "id": "C1dUBXrVaxQJ",
        "outputId": "f87a2385-dd17-4218-e177-361a986fcedd"
      },
      "outputs": [
        {
          "data": {
            "image/png": "[encoded data removed]",
            "text/plain": [
              "<Figure size 432x288 with 1 Axes>"
            ]
          },
          "metadata": {
            "needs_background": "light"
          },
          "output_type": "display_data"
        },
        {
          "data": {
            "image/png": "[encoded data removed]",
            "text/plain": [
              "<Figure size 432x288 with 1 Axes>"
            ]
          },
          "metadata": {
            "needs_background": "light"
          },
          "output_type": "display_data"
        },
        {
          "name": "stdout",
          "output_type": "stream",
          "text": [
            "  time: 0   position: 0   speed: 0\n",
            "  time: 0.12   position: 0.0   speed: 1.176\n",
            "  time: 0.24   position: 0.14112   speed: 2.3221277184\n",
            "  time: 0.36   position: 0.41977532620799995   speed: 3.3816545321638696\n",
            "  time: 0.48   position: 0.8255738700676643   speed: 4.310645844865934\n",
            "  time: 0.6   position: 1.3428513714515762   speed: 5.085281824708959\n",
            "  time: 0.72   position: 1.9530851904166513   speed: 5.702703853995909\n",
            "  time: 0.84   position: 2.63740965289616   speed: 6.176253899074106\n",
            "  time: 0.96   position: 3.378560120785053   speed: 6.528297874996219\n",
            "  time: 1.08   position: 4.161955865784599   speed: 6.783734535071128\n",
            "  time: 1.2000000000000002   position: 4.976004009993135   speed: 6.965722963437087\n",
            "  time: 1.3200000000000003   position: 5.811890765605585   speed: 7.0936629611246245\n",
            "  time: 1.4400000000000004   position: 6.66313032094054   speed: 7.182749790274347\n",
            "  time: 1.5600000000000005   position: 7.525060295773462   speed: 7.244364868001125\n",
            "  time: 1.6800000000000006   position: 8.394384079933596   speed: 7.28677910544138\n",
            "  time: 1.8000000000000007   position: 9.268797572586562   speed: 7.315880671241043\n",
            "  time: 1.9200000000000008   position: 10.146703253135488   speed: 7.335803095330936\n",
            "  time: 2.040000000000001   position: 11.0269996245752   speed: 7.34942054297605\n",
            "  time: 2.160000000000001   position: 11.908930089732326   speed: 7.358718524917653\n",
            "  time: 2.280000000000001   position: 12.791976312722445   speed: 7.365062577011982\n",
            "  time: 2.4000000000000012   position: 13.675783821963883   speed: 7.369389006924651\n",
            "  time: 2.5200000000000014   position: 14.56011050279484   speed: 7.372338489280402\n",
            "  time: 2.6400000000000015   position: 15.444791121508489   speed: 7.374348793589057\n",
            "  time: 2.7600000000000016   position: 16.329712976739177   speed: 7.375718758791676\n",
            "  time: 2.8800000000000017   position: 17.214799227794177   speed: 7.376652251081781\n"
          ]
        }
      ],
      "source": [
        "#RAINDROP SIMULATION - XIRUI HUANG\n",
        "\n",
        "#constants\n",
        "import math\n",
        "\n",
        "c=0.6\n",
        "p=1.2\n",
        "r=0.0015\n",
        "A=(math.pi)*(r**2)\n",
        "b=1/2*c*p*A\n",
        "m=(4*(math.pi)*(0.0015**3)/3)*1000\n",
        "g=9.8\n",
        "\n",
        "#initial conditions\n",
        "x0=0\n",
        "t0=0\n",
        "dt=0.12\n",
        "v0=0\n",
        "\n",
        "#acceleration\n",
        "a=(g-(b*(v0**2))/m)\n",
        "\n",
        "#lists for variables\n",
        "t=[]\n",
        "x=[]\n",
        "v=[]\n",
        "\n",
        "#appending initial values for each variable\n",
        "x.append(x0)\n",
        "t.append(t0)\n",
        "v.append(v0)\n",
        "\n",
        "#appending more values\n",
        "tn=t0\n",
        "xn=x0\n",
        "vn=v0\n",
        "\n",
        "for n in range(0,25): \n",
        "    tn=tn+dt\n",
        "    xn=xn+vn*dt\n",
        "    vn=vn+a*dt\n",
        "    a=(g-((b/m)*(vn**2)))\n",
        "    t.append(tn)\n",
        "    v.append(vn)\n",
        "    x.append(xn)\n",
        "\n",
        "#Position vs Time Graph\n",
        "import matplotlib.pyplot as plt\n",
        "plt.scatter(t, x)\n",
        "plt.title(\"Position vs. Time\")\n",
        "plt.ylabel(\"x (m)\")\n",
        "plt.xlabel(\"t (s)\")\n",
        "plt.show()\n",
        "\n",
        "#Speed vs Time Graph\n",
        "import matplotlib.pyplot as plt\n",
        "plt.scatter(t, v)\n",
        "plt.title(\"Speed vs. Time\")\n",
        "plt.ylabel(\"v (m/s)\")\n",
        "plt.xlabel(\"t (s)\")\n",
        "plt.show()\n",
        "\n",
        "#Show all 3 values to confirm numerical answer\n",
        "for s in range(0,25):\n",
        "  print(\"  time:\",t[s], \"  position:\",x[s], \"  speed:\",v[s])\n",
        "\n",
        "\n"
      ]
    }
  ],
  "metadata": {
    "colab": {
      "collapsed_sections": [],
      "provenance": []
    },
    "kernelspec": {
      "display_name": "Python 3",
      "name": "python3"
    },
    "language_info": {
      "name": "python"
    }
  },
  "nbformat": 4,
  "nbformat_minor": 0
}
